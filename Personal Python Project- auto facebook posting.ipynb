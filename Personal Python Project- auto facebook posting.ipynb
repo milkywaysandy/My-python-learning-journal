{
 "cells": [
  {
   "cell_type": "code",
   "execution_count": 2,
   "metadata": {},
   "outputs": [],
   "source": [
    "#Purpose: Auto posting a continued facebook post on my fan page with Python.\n",
    "#Reference: https://www.jcchouinard.com/post-to-groups-using-facebook-graph-api-python/\n",
    "#Facebook API: \n",
    "#https://developers.facebook.com/tools/explorer/239297107775488/?method=POST&path=OrganizingWithSandy%2Ffeed&version=v9.0&message=%22%E6%9C%89%E5%A4%AA%E9%99%BD%E7%9A%84%E6%9A%96%E5%86%AC%E7%9C%9F%E5%A5%BD%EF%BC%81%E2%80%9C"
   ]
  },
  {
   "cell_type": "code",
   "execution_count": 1,
   "metadata": {},
   "outputs": [
    {
     "name": "stdout",
     "output_type": "stream",
     "text": [
      "{'data': [{'created_time': '2021-01-28T02:15:46+0000', 'message': 'test', 'id': '550755855310322_1298060480579852'}, {'created_time': '2021-01-27T07:00:59+0000', 'message': '《原子習慣x整理思維 第二篇》\\n\\n作者解釋所有的習慣養成都是由：提示、渴望、回應、獎賞，四個過程一次又一次循環後變成不需考慮就會做的動作。\\n\\n這就是為什麼麻理惠老師會要求在整理前先有夢想生活空間的照片(提示)。看著夢想生活空間的照片，就會產生想整理的心情(渴望)。進一步，因有想整理的心請，而動手整理(回應)。因整理完而擁有整齊的空間就是(獎賞)。之後，麻理惠老師也會要求拍下Before/After，因為B/A(提示) 就是新習慣養成輪回的開始。\\n\\n#Sandy效率媽咪生活', 'id': '550755855310322_1296890440696856'}, {'created_time': '2021-01-24T14:21:20+0000', 'message': '《披薩皮事件》\\n\\n今天姐姐的兩個好朋友來家裡玩。為了殺小孩時間&午餐，我拿出我的一石二鳥殺手活動 - DIY 披薩。早早就把料丟到水波爐的披薩皮自動行程，就翹腳看小孩玩。不料，11:30時，打開水波爐，只看到一堆不成器的粉粒狀披薩皮麵團，才發現開天窗了（好像是酵母過期了）。看著4個小孩興奮又肌餓的表情。恐懼的我立馬開始翻冰箱！直到找到皮塔餅(pita)，才鬆口氣。\\n\\n披薩皮現成的替代品：皮塔餅、塔可皮（墨西哥餅皮/soft taco shall）、壓扁實的吐司、原味抓餅（沒蔥的）。這些材料都可在家x福找到。如果大家想和小朋友一起DIY披薩，又沒做披薩皮麵團，可考慮使用喔！\\n\\n#Sandy效率媽咪生活', 'id': '550755855310322_1295466137505953'}, {'created_time': '2021-01-21T11:30:30+0000', 'message': '《原子習慣x整理思維 第一篇》\\n\\n原子習慣是本可以實際使用的工作書。雖然書只是聚焦在習慣的養成，但和整理思維是習習相關。\\n\\n第一章就要請讀者相信自己已是自己想變成的人。如此，因為很想成為那種人而時刻做出正確的選擇。對於想少物的人，因為想少物，會開始發現不常用的物品而斷捨離。對於想要整齊的人，會開始發現物品出現在不該出出現的地方而改變行為。\\n\\n這想法和向宇宙許願有類似的效果。\\n\\n… 待續\\n\\n#Sandy效率媽咪生活\\n圖文不符的Sandy家另一角', 'id': '550755855310322_1293203214398912'}, {'created_time': '2021-01-18T06:18:37+0000', 'message': 'Sandy的閱讀器選擇\\n\\n買閱讀器的理由：\\n雖然，不是所有的書都有電子版。但，我喜歡看主流的新書或古典小說。所以，以我的需求，擁有閱讀器可以減少非常多的實體書在家。再說，我也不喜歡在手機或平版上看書，眼睛很容易酸。如果你有想買閱讀器，我建議看看書城裡的書是否有大部份你想看的書。\\n\\n為何選6寸？\\n不管是之前的Kindle或是現有的mooink。我都是選6寸的。因為，我不看漫畫或雜誌（有看的話，7寸以上比較適合），也沒有看pdf文件檔的需求（適合13寸）。加上我常常帶它出門，小尺寸比較方便。也許，等我有嚴重老花時就會換大螢幕😂\\n\\n哪家閱讀器好呢？\\n我自己的閱讀習慣是60%中文+40%英文。之前因為Kindle已經成熟，幾乎所有英文書都在Amazon上。所以先買了Kindle。加上，kindle可下載加拿大圖書館的借閱書，非常方便。如果你有看簡體字的書，kindle也十分好用。大致來説，kindle是我看過使用上最流暢的閱讀器。目前，有考慮再買一台kindle和我大女兒一起用。\\n\\n但，以繁體中文來說，讀墨還是最大的書城。近兩年，我發現我買的中文書大多在讀墨上有電子版。以想要支持本土企業的心情，我下手了mooink。使用了兩個多月，除了速度和流暢度有小輸給kindle，使用上完全沒有問題，也符合所有閱讀器該有的功能。\\n\\nBut, 如果是圖片較多的書，像是食譜類的書，我還是會買實體書。因為，閱讀器無法展現高清照片，實體書上的美麗照片和排版才有動力跟著做！還有，如果你是會賣書的人，電子書無法隨意轉讓，也許就不是非常適合。\\n\\n這是我看到很棒的閱讀器分析文：\\nhttps://twinsyang.net/archives/20998\\n\\n#Sandy效率媽咪生活', 'id': '550755855310322_1291035124615721'}, {'created_time': '2021-01-13T03:21:55+0000', 'message': '少物不代表少書。最近我10年的舊kindle壞了，正好入手新的電子書閱讀器。電子書在台灣起步晚，但最近也慢慢的成熟了。很大部份的書在各大平台都找的到電子版。小小台就可存超多書，帶著走也不佔空間。非常推薦給想要減物生活的你。\\n\\n好久不見的太陽下看看新書， 好幸福！這是最近很愛的新書，我認為對整理有非常大的關連。最近想以裡面的重點連結整理，大家想看嗎？\\n\\n#Sandy效率媽咪生活\\n#非業配', 'id': '550755855310322_1287496964969537'}, {'created_time': '2020-12-25T15:21:29+0000', 'message': '在國外，交換禮物並不是聖誕節最重要的事。而是和家人好好聊天和一起分享美食的時間。\\n\\n#Sandy效率媽咪生活', 'id': '550755855310322_1273888642997036'}, {'created_time': '2020-12-25T12:45:29+0000', 'message': 'Less is more. 聖誕節快樂!!\\n\\n#Sandy效率媽咪生活', 'id': '550755855310322_1273806256338608'}, {'created_time': '2020-12-11T07:35:28+0000', 'message': '有感覺要過節了😍\\n這顆樹已陪了我20年了! 😳 從我還没認識AB先生時就擁有了，也陪着我搬家跨越北美東西岸、跨太平洋回台灣。雖然，上面的装飾品會随着時間偶爾改變，家人偶爾也會討論是否要換大棵點的樹。但，每年聖誕節擺出來後，還是覺得他很美，討論就無疾而終😂。没意外的話，它應會陪着我家小姐妹長大。💪\\n\\n妳擁有最久的物品是什麽呢？\\n\\n#Sandy效率媽咪生活', 'id': '550755855310322_1263433277375906'}, {'created_time': '2020-12-03T02:01:16+0000', 'message': '🥳🥳🥳Amazon有免運！！！\\n\\n雖然大部份時間，Sandy都鼓勵大家不要買東西。但，必要、喜歡的物品，比價還是需要的。最近美國Amazon有免運門坎，大家一定要把握機會喔！Sandy 家已剁了手手買了 冰沙機 & 義大利麵機，到時又可以有收納文可分享！ \\n\\n問：Sandy幫忙大家做代購，大家覺的如何呢？\\n\\n這裡有很棒的教學：https://playsmarthome.com/amazon-shipping-to-taiwan-tutorial/\\n\\nAmazon: https://www.amazon.com/b?ie=UTF8&node=21491806011', 'id': '550755855310322_1257129404672960'}, {'created_time': '2020-11-29T01:07:47+0000', 'message': '身在台灣真的很幸福，Covid對大部份的我們在日常生活中沒有太大的影響。但，還是免不了有希望這一切快快結束。很喜歡這支阿琪的整理影片。把疫苗的原理和一些大家關心的問題一次解釋給大家。\\n\\n小朋友施打疫苗還沒有實驗結果，一定要等臨床實驗成果和醫生討論過才可施打喔！', 'id': '550755855310322_1253956978323536'}, {'created_time': '2020-11-17T06:19:28+0000', 'message': '好難得的午後陽光，心情都輕鬆了一點呢！\\n\\n#Sandy家主臥的一角\\n#Sandy效率媽咪生活', 'id': '550755855310322_1244840339235200'}, {'created_time': '2020-11-09T06:43:48+0000', 'message': '橘子季節又到啦！\\n\\n打從有小朋友後，我對柑橘就有特別的愛好。因為對一歲左右大的貝比就可以訓練他們自己剝皮。給了沒籽的品種，他們就可以自己“玩”好久，飽足又可鍛練小肌肉。之後，只要是季節，小朋友都知道，肚子餓或無聊，可以自己去冰箱挖橘子😂。\\n\\n大家家中必備的水果是什麼？\\n\\n拖了幾個星期沒寫的週記更新啦，有興趣可以參考一下喔！\\n快速晚餐週記：\\nhttp://organizingwithsandy.com/%e5%bf%ab%e9%80%9f%e6%99%9a%e9%a4%90%e9%80%b1%e8%a8%98/\\n\\n#Sandy效率媽咪生活', 'id': '550755855310322_1237769079942326'}, {'created_time': '2020-11-05T09:28:04+0000', 'message': '在5～6點左右大概是會自煮媽媽們最辛苦的時間吧。小朋友們好不容易回到家，又累又餓，但晚餐時間又快到了，讓他們吃太多零食又怕吃不下晚餐。烤地瓜是我常常拿來塞小朋友嘴巴的好物。可以在前幾天有蒸烤料理時同時弄熟，冷藏3～4天。\\n\\n我喜歡烤地瓜加點梅子粉😍 你們最愛加其它調味料嗎？\\n\\n#Sandy效率媽咪生活', 'id': '550755855310322_1234364780282756'}, {'created_time': '2020-10-30T05:53:37+0000', 'message': '我們家的門準備好要過萬聖節了🤣🤣', 'id': '550755855310322_1228958784156689'}, {'created_time': '2020-10-27T05:12:58+0000', 'message': '週末時姐姐提出，之前做的早晨工作清單並沒有包括所有需做的事。於是討論了一會 & 三個人一起作了新的清單，兩姐妹很開心的花了一個半小時把空白版面”美化“。這星期的早晨少了好多 “快一點X” 真是一件CP值超高的親子工作啊！\\n\\n#Sandy效率媽咪生活', 'id': '550755855310322_1226238267762074'}, {'created_time': '2020-10-20T09:32:53+0000', 'message': '今天是比較忙的日子。雜事的處理加上小朋友的才藝班接送，感覺像是轉不停的陀螺。回家途中看到超美麗的彩紅，和小朋友一起停下欣賞拍照一下。連續幾天的陰天、毛毛雨也就不那麼覺得煩人了。\\n\\n#媽媽的小確幸\\n#Sandy效率媽咪生活', 'id': '550755855310322_1220128251706409'}, {'created_time': '2020-10-15T06:40:13+0000', 'message': '寫了好一會的部落格，沉浸在工作裡，覺得好有成就感。鬧鐘在2:30響起，現在是媽媽在孩子們回家之前轉換心情的小確幸時間！🥰\\n\\n妳們的小確幸是什麼？\\n\\n#sandy效率媽咪生活', 'id': '550755855310322_1215439562175278'}, {'created_time': '2020-10-13T12:01:24+0000', 'message': '《快速晚餐週記》\\n\\n這星期的快速晚餐計劃出爐嘍！只有我和小朋友的晚餐一鍋料理讓媽媽不崩潰 😂\\n\\nhttp://organizingwithsandy.com/%e5%bf%ab%e9%80%9f%e6%99%9a%e9%a4%90%e9%80%b1%e8%a8%98/\\n\\n#Sandy效率媽咪生活', 'id': '550755855310322_1213855602333674'}, {'created_time': '2020-10-08T14:49:44+0000', 'message': '雙十連假開始了，大家準備好要出遊了嗎？\\n\\nSandy家要去露營，來看看我如何擬定一份 不用帶太多食材 & 每餐準備 10～15分的露營菜單吧！\\n\\n#Sandy效率媽咪生活', 'id': '550755855310322_1209730969412804'}, {'created_time': '2020-10-07T06:27:47+0000', 'message': '～三天兩夜 露營菜單 準備中～\\n\\n第一天\\n出發前，早餐在家吃！\\n午：鱷梨醬雞蛋三明治\\n晚：墨西哥豬肉蔬菜塔可\\n\\n第二天\\n早：堅果全麥三明治 & 水果\\n午：costco 韓式煎餅加蛋 & 水果\\n晚：酪梨雞胸沙拉 & 香煎西班牙辣腸 & 玉米濃湯\\n\\n第三天\\n早：Chunky monkey & 水果\\n 打包回家嘍！\\n\\n明天再分享菜單擬定作法！\\n\\n#Sandy效率媽咪生活', 'id': '550755855310322_1208592986193269'}, {'created_time': '2020-10-01T06:36:55+0000', 'message': '祝大家中秋節快樂！', 'id': '550755855310322_1203450773374157'}, {'created_time': '2020-09-25T12:00:14+0000', 'message': '整理 小朋友房間全攻略 ～玩具篇\\n\\n中秋連假快到了，不想人擠人？這是建立起小孩新整理習慣的最佳時機。不知從何下手？大家可以試試Sandy的思路方法，一個下午一起打造夢想親子區！\\n\\n#sandy效率媽咪生活', 'id': '550755855310322_1198602353858999'}, {'created_time': '2020-09-23T06:35:16+0000', 'message': '秋高氣爽，不用開冷氣的日子，有點陽光的日子真的讓人好開心😍', 'id': '550755855310322_1196851260700775'}, {'created_time': '2020-09-20T12:05:03+0000', 'message': '想要有快速晚餐的靈感嗎？來看看Sandy家下星期吃什麼！\\n\\n#Sandy效率媽咪生活', 'id': '550755855310322_1194558087596759'}], 'paging': {'cursors': {'before': 'QVFIUkw5ZA1BINS1FVmJ1S2JBYVNycHV3ZAEwzeXI2aWhlc0ZA4ZAGx0YURQT0tMcGNDelNWZADJUZAGFHMENFbnpsT0ZAiQnd3RDdabnBDOGYyVmQwN3pzTlVkUXhJZAnBDR08xLVhpQS1BWlBMeEctWTMyOUp6MmtOQ1c2N2QtT2JPU1ZAOdUxj', 'after': 'QVFIUjFyMWhtdG5HS2cwdDBSSkFJdVlBb1NNcGExNXkxeWs0RW5FVUxEdTFjRDlreGYxWC16dVBvVnR6NmFKdDRmOWdSUHNNZAHdkYkN6X2ZAOdzFzVWRkMnRtOWx0ZAk9McEwyNWFkd2NxOFplajltWjViTWhIM09ZASGotcVlSbEg3enRv'}, 'next': 'https://graph.facebook.com/v9.0/550755855310322/feed?access_token=EAADZAo7Ma0AABACwlFqY57pD5pVvFLZCK2L5N62Sd2vueZBwC5p6dZAI9NTc39S4b96H7iZCoR0R0WiZBahnkQXWgyCAOHpyrT8fbsBiKHPzjXhGHDm3xo9uc1qr0b54KbWL40VODLapbwuPpYrPqZC8wkfaNMtujPWPKFAgGkv0w9q0Nyo9QmzI6pSuMu0OFGFzaNXgmd0xwZDZD&limit=25&after=QVFIUjFyMWhtdG5HS2cwdDBSSkFJdVlBb1NNcGExNXkxeWs0RW5FVUxEdTFjRDlreGYxWC16dVBvVnR6NmFKdDRmOWdSUHNNZAHdkYkN6X2ZAOdzFzVWRkMnRtOWx0ZAk9McEwyNWFkd2NxOFplajltWjViTWhIM09ZASGotcVlSbEg3enRv'}}\n"
     ]
    }
   ],
   "source": [
    "import json\n",
    "\n",
    "from facebook import GraphAPI\n",
    " \n",
    "def read_creds(filename):\n",
    "    with open(filename) as f:\n",
    "        credentials = json.load(f)\n",
    "    return credentials\n",
    " \n",
    "credentials = read_creds(\"/Users/milkywaysandy/Documents/credentials.json\")\n",
    " \n",
    "graph = GraphAPI(access_token=credentials['access_token'])\n",
    " \n",
    "message = 'test'\n",
    "link = 'http://organizingwithsandy.com/%e5%bf%ab%e9%80%9f%e6%99%9a%e9%a4%90%e9%80%b1%e8%a8%98/'\n",
    "groups = ['OrganizingWithSandy']\n",
    " \n",
    "for group in groups:\n",
    "    graph.put_object(group,'feed', message=message, link=link)\n",
    "    print(graph.get_connections(group, 'feed'))"
   ]
  },
  {
   "cell_type": "code",
   "execution_count": null,
   "metadata": {},
   "outputs": [],
   "source": []
  },
  {
   "cell_type": "code",
   "execution_count": null,
   "metadata": {},
   "outputs": [],
   "source": []
  }
 ],
 "metadata": {
  "kernelspec": {
   "display_name": "Python 3",
   "language": "python",
   "name": "python3"
  },
  "language_info": {
   "codemirror_mode": {
    "name": "ipython",
    "version": 3
   },
   "file_extension": ".py",
   "mimetype": "text/x-python",
   "name": "python",
   "nbconvert_exporter": "python",
   "pygments_lexer": "ipython3",
   "version": "3.7.4"
  }
 },
 "nbformat": 4,
 "nbformat_minor": 2
}
