{
 "cells": [
  {
   "cell_type": "code",
   "execution_count": 86,
   "metadata": {},
   "outputs": [],
   "source": [
    "#This file contains all the W3 practices python questions\n",
    "#https://www.w3resource.com/python-exercises/python-basic-exercises.php"
   ]
  },
  {
   "cell_type": "code",
   "execution_count": 83,
   "metadata": {},
   "outputs": [
    {
     "name": "stdout",
     "output_type": "stream",
     "text": [
      "Twinkle, twinkle, little star, \n",
      "How I wonder what you are! \n",
      "\tUp above the world so high, Like a diamond in the sky. Twinkle, twinkle, little star, How I wonder what you are\n"
     ]
    }
   ],
   "source": [
    "#1. Write a Python program to print the following string in a specific format (see the output). Go to the editor\n",
    "#Sample String : \"Twinkle, twinkle, little star, How I wonder what you are! Up above the world so high, Like a diamond in the sky. Twinkle, twinkle, little star, How I wonder what you are\" Output :\n",
    "print(\"Twinkle, twinkle, little star, \\nHow I wonder what you are! \\n\\tUp above the world so high, Like a diamond in the sky. Twinkle, twinkle, little star, How I wonder what you are\")\n"
   ]
  },
  {
   "cell_type": "code",
   "execution_count": 17,
   "metadata": {},
   "outputs": [
    {
     "name": "stdout",
     "output_type": "stream",
     "text": [
      "Current date and time : 2020-10-26-21:26:35\n"
     ]
    }
   ],
   "source": [
    "#Write a Python program to display the current date and time.\n",
    "#Current date and time :2014-07-05 14:34:14\n",
    "from datetime import datetime\n",
    "current_time =datetime.today().strftime('%Y-%m-%d-%H:%M:%S')\n",
    "print(\"Current date and time :\",current_time)"
   ]
  },
  {
   "cell_type": "code",
   "execution_count": 5,
   "metadata": {},
   "outputs": [
    {
     "name": "stdout",
     "output_type": "stream",
     "text": [
      "Please input r = \n",
      "1.1\n",
      "Area =  3.8013271108436504\n"
     ]
    }
   ],
   "source": [
    "#Write a Python program which accepts the radius of a circle from the user and compute the area. Go to the editor\n",
    "#Sample Output :r = 1.1; Area = 3.8013271108436504\n",
    "import math\n",
    "print(\"Please input r = \")\n",
    "r = float(input())\n",
    "area = r**2*math.pi\n",
    "print(\"Area = \", area)"
   ]
  },
  {
   "cell_type": "code",
   "execution_count": 12,
   "metadata": {},
   "outputs": [
    {
     "name": "stdout",
     "output_type": "stream",
     "text": [
      "please entre your first and last name:\n",
      "sandy hsu\n",
      "hsu   sandy\n"
     ]
    }
   ],
   "source": [
    "#5. Write a Python program which accepts the user's first and last name and print them in reverse order \n",
    "#with a space between them. \n",
    "print(\"please entre your first and last name:\")\n",
    "input_name = str(input())\n",
    "x = input_name.split()\n",
    "print(x[-1],\" \",x[0])"
   ]
  },
  {
   "cell_type": "code",
   "execution_count": 15,
   "metadata": {},
   "outputs": [
    {
     "name": "stdout",
     "output_type": "stream",
     "text": [
      "please entre integer:\n",
      "5\n",
      "615\n"
     ]
    }
   ],
   "source": [
    "#10. Write a Python program that accepts an integer (n) and computes the value of n+nn+nnn. Go to the editor\n",
    "#Sample value of n is 5 - Expected Result : 615\n",
    "print(\"please entre integer:\")\n",
    "num = int(input())\n",
    "total= (num*3)+(num*20)+(num*100)\n",
    "print(total)"
   ]
  },
  {
   "cell_type": "code",
   "execution_count": 40,
   "metadata": {},
   "outputs": [
    {
     "name": "stdout",
     "output_type": "stream",
     "text": [
      "10\n",
      "12\n"
     ]
    }
   ],
   "source": [
    "#16. Write a Python program to get the difference between a given number and 17, if the number is greater than \n",
    "#17 return double the absolute difference.\n",
    "def x_x(num):\n",
    "    if num > 17:\n",
    "        return ((num-17)*2)\n",
    "    else:\n",
    "        return (17 - num)\n",
    "print(x_x(22))\n",
    "print(x_x(5))"
   ]
  },
  {
   "cell_type": "code",
   "execution_count": 49,
   "metadata": {},
   "outputs": [
    {
     "name": "stdout",
     "output_type": "stream",
     "text": [
      "please entre integer:\n",
      "4\n",
      "The integer is  even\n"
     ]
    }
   ],
   "source": [
    "#21. Write a Python program to find whether a given number (accept from the user) is even or odd, \n",
    "#print out an appropriate message to the user.\n",
    "print(\"please entre integer:\")\n",
    "num = int(input())\n",
    "def tryit(n):\n",
    "    if num%2 ==0:\n",
    "        return \"even\"\n",
    "    else:\n",
    "        return \"odd\"\n",
    "print(\"The integer is \", tryit(num))"
   ]
  },
  {
   "cell_type": "code",
   "execution_count": 57,
   "metadata": {},
   "outputs": [
    {
     "name": "stdout",
     "output_type": "stream",
     "text": [
      "2\n"
     ]
    }
   ],
   "source": [
    "#22. Write a Python program to count the number 4 in a given list.\n",
    "def list_count (list):\n",
    "    count = 0\n",
    "    for i in list:\n",
    "        if i == 4:\n",
    "            count = count + 1\n",
    "    return count\n",
    "print (list_count([1,4,5,4,1]))"
   ]
  },
  {
   "cell_type": "code",
   "execution_count": 62,
   "metadata": {},
   "outputs": [
    {
     "name": "stdout",
     "output_type": "stream",
     "text": [
      "False\n"
     ]
    }
   ],
   "source": [
    "#25. Write a Python program to check whether a specified value is contained in a group of values. Go to the editor\n",
    "#Test Data :3 -> [1, 5, 8, 3] : True; -1 -> [1, 5, 8, 3] : False\n",
    "def test(list,n):\n",
    "    for i in list:\n",
    "        if n == i:\n",
    "            return True\n",
    "        else:\n",
    "            return False\n",
    "print(test([1,2,3,4], 5))"
   ]
  },
  {
   "cell_type": "code",
   "execution_count": 67,
   "metadata": {},
   "outputs": [
    {
     "name": "stdout",
     "output_type": "stream",
     "text": [
      "1234\n"
     ]
    }
   ],
   "source": [
    "#27. Write a Python program to concatenate all elements in a list into a string and return it.\n",
    "def list_str(list):\n",
    "    string = \"\"\n",
    "    for i in list:\n",
    "        string += str(i)\n",
    "    return string\n",
    "print(list_str([1,2,3,4]))"
   ]
  },
  {
   "cell_type": "code",
   "execution_count": 77,
   "metadata": {},
   "outputs": [
    {
     "name": "stdout",
     "output_type": "stream",
     "text": [
      "{'Black', 'White'}\n"
     ]
    }
   ],
   "source": [
    "#29. Write a Python program to print out a set containing all the colors from color_list_1 which are not present in \n",
    "#color_list_2. Go to the editor。 #Output :{'Black', 'White'}\n",
    "color_list_1 = set([\"White\", \"Black\", \"Red\"]) \n",
    "color_list_2 = set([\"Red\", \"Green\"])\n",
    "\n",
    "print(color_list_1.difference(color_list_2))\n"
   ]
  },
  {
   "cell_type": "code",
   "execution_count": 81,
   "metadata": {},
   "outputs": [
    {
     "name": "stdout",
     "output_type": "stream",
     "text": [
      "name\n",
      "address\n",
      "\n"
     ]
    }
   ],
   "source": [
    "#37. Write a Python program to display your details like name, age, address in three different lines.\n",
    "name = \"Sandy\"\n",
    "address = \"Taipei\"\n",
    "print(\"name\\naddress\\n\")"
   ]
  },
  {
   "cell_type": "code",
   "execution_count": 87,
   "metadata": {},
   "outputs": [
    {
     "name": "stdout",
     "output_type": "stream",
     "text": [
      "4\n"
     ]
    }
   ],
   "source": [
    "#47. Write a Python program to find out the number of CPUs using.\n",
    "\n",
    "import multiprocessing\n",
    "print(multiprocessing.cpu_count())"
   ]
  },
  {
   "cell_type": "code",
   "execution_count": 2,
   "metadata": {},
   "outputs": [
    {
     "name": "stdout",
     "output_type": "stream",
     "text": [
      "\n",
      "Time to sum of 1 to  5  and required time to calculate is : (15, 1.9073486328125e-06)\n"
     ]
    }
   ],
   "source": [
    "#57. Write a program to get execution time for a Python method.\n",
    "import time\n",
    "def sum_of_n_numbers(n):\n",
    "    start_time = time.time()\n",
    "    s = 0\n",
    "    for i in range(1,n+1):\n",
    "        s = s + i\n",
    "    end_time = time.time()\n",
    "    return s,end_time-start_time\n",
    "\n",
    "n = 5\n",
    "print(\"\\nTime to sum of 1 to \",n,\" and required time to calculate is :\",sum_of_n_numbers(n))"
   ]
  },
  {
   "cell_type": "code",
   "execution_count": null,
   "metadata": {},
   "outputs": [],
   "source": [
    "#91 swap variables\n",
    "a = 30\n",
    "b = 20\n",
    "print(\"\\nBefore swap a = %d and b = %d\" %(a, b))\n",
    "a, b = b, a\n",
    "print(\"\\nAfter swaping a = %d and b = %d\" %(a, b))\n",
    "print()"
   ]
  },
  {
   "cell_type": "code",
   "execution_count": 1,
   "metadata": {},
   "outputs": [],
   "source": [
    "# learn github\n",
    "#https://www.youtube.com/watch?v=nhNq2kIvi9s\n",
    "#learn git\n",
    "#https://www.youtube.com/watch?v=USjZcfj8yxE\n",
    "\n",
    "#test test"
   ]
  },
  {
   "cell_type": "code",
   "execution_count": null,
   "metadata": {},
   "outputs": [],
   "source": []
  }
 ],
 "metadata": {
  "kernelspec": {
   "display_name": "Python 3",
   "language": "python",
   "name": "python3"
  },
  "language_info": {
   "codemirror_mode": {
    "name": "ipython",
    "version": 3
   },
   "file_extension": ".py",
   "mimetype": "text/x-python",
   "name": "python",
   "nbconvert_exporter": "python",
   "pygments_lexer": "ipython3",
   "version": "3.7.4"
  }
 },
 "nbformat": 4,
 "nbformat_minor": 2
}
