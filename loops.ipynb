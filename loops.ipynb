{
 "cells": [
  {
   "cell_type": "code",
   "execution_count": null,
   "metadata": {},
   "outputs": [],
   "source": [
    "#Write a Python program to find those numbers which are divisible by 7 and multiple of 5,\n",
    "#between 1500 and 2700 (both included).\n",
    "lst = []\n",
    "for num in range(1499,2701):\n",
    "    if num % 7 == 0 and num % 5 == 0:\n",
    "        lst.append(num)\n",
    "print(lst)"
   ]
  },
  {
   "cell_type": "code",
   "execution_count": null,
   "metadata": {},
   "outputs": [],
   "source": [
    "#short form\n",
    "lst2 = [num for num in range(1499,2701) if num % 7 == 0 and num % 5 == 0]\n",
    "print(lst2)"
   ]
  },
  {
   "cell_type": "code",
   "execution_count": null,
   "metadata": {},
   "outputs": [],
   "source": [
    "#find example nest if into for loop\n",
    "word1 = 'abc'\n",
    "for i in word1:\n",
    "    if i == \"a\" or i =='e'or i =='i'or i =='o'or i =='u':\n",
    "        print('There is a vowel')\n",
    "        print(i)\n",
    "    else:\n",
    "        print('This is not a vowel')"
   ]
  },
  {
   "cell_type": "code",
   "execution_count": 1,
   "metadata": {},
   "outputs": [
    {
     "name": "stdout",
     "output_type": "stream",
     "text": [
      "This is not a vowel\n",
      "There is a vowel\n",
      "e\n",
      "This is not a vowel\n"
     ]
    }
   ],
   "source": [
    "word2 = 'def'\n",
    "vowel = ['a', 'e', 'i', 'o', 'u']\n",
    "for j in word2:\n",
    "    if j in vowel:\n",
    "        print('There is a vowel')\n",
    "        print(j)\n",
    "    else:\n",
    "        print('This is not a vowel')"
   ]
  },
  {
   "cell_type": "code",
   "execution_count": null,
   "metadata": {},
   "outputs": [],
   "source": [
    "word3 = 'fit'\n",
    "vowels = {\"a\", \"e\", \"i\", \"o\", \"u\", \"A\", \"E\", \"I\", \"O\", \"U\"}\n",
    "if any(char in vowels for char in word3):\n",
    "    print('The word has vowel')\n",
    "else:\n",
    "    print('The word has no vowel')"
   ]
  },
  {
   "cell_type": "code",
   "execution_count": null,
   "metadata": {},
   "outputs": [],
   "source": []
  }
 ],
 "metadata": {
  "kernelspec": {
   "display_name": "Python 3",
   "language": "python",
   "name": "python3"
  },
  "language_info": {
   "codemirror_mode": {
    "name": "ipython",
    "version": 3
   },
   "file_extension": ".py",
   "mimetype": "text/x-python",
   "name": "python",
   "nbconvert_exporter": "python",
   "pygments_lexer": "ipython3",
   "version": "3.7.4"
  }
 },
 "nbformat": 4,
 "nbformat_minor": 2
}
