{
 "cells": [
  {
   "cell_type": "code",
   "execution_count": 155,
   "metadata": {},
   "outputs": [
    {
     "name": "stdout",
     "output_type": "stream",
     "text": [
      "Please input first number:1\n",
      "Please input first number:2\n",
      "Please input first number:3\n",
      "3\n"
     ]
    }
   ],
   "source": [
    "#1. Write a Python function to find the Max of three numbers. Go to the editor\n",
    "x=int(input(\"Please input first number:\"))\n",
    "y=int(input(\"Please input first number:\"))\n",
    "z=int(input(\"Please input first number:\"))\n",
    "\n",
    "def maxof3(x,y,z):\n",
    "    if x>=y:\n",
    "        if x>=z:\n",
    "            return x\n",
    "        else:\n",
    "            return z\n",
    "    else:\n",
    "        if y>=z:\n",
    "            return y\n",
    "        else:\n",
    "            return z\n",
    "print(maxof3(x,y,z))  \n",
    "#note: find max of 2 then find max of 3 method is more clear"
   ]
  },
  {
   "cell_type": "code",
   "execution_count": 156,
   "metadata": {},
   "outputs": [
    {
     "name": "stdout",
     "output_type": "stream",
     "text": [
      "Entre a sentance: We are Family\n",
      "upp is :  2 lower is:  9\n"
     ]
    }
   ],
   "source": [
    "#7. Write a Python function that accepts a string and calculate the number of upper case letters & lower case letters.\n",
    "string = input(\"Entre a sentance: \")\n",
    "count_upp = 0\n",
    "count_low = 0\n",
    "i = 0\n",
    "for i in string:\n",
    "    if i.isupper() == True:\n",
    "        count_upp += 1\n",
    "for j in string:\n",
    "    if j.islower() == True:\n",
    "        count_low += 1\n",
    "print(\"upp is : \", count_upp, \"lower is: \", count_low)"
   ]
  },
  {
   "cell_type": "code",
   "execution_count": 157,
   "metadata": {},
   "outputs": [
    {
     "name": "stdout",
     "output_type": "stream",
     "text": [
      "8\n"
     ]
    }
   ],
   "source": [
    "#3. Write a Python program to get the largest number from a list.\n",
    "num = 0\n",
    "def largest_list(list3):\n",
    "    largest_num = 0\n",
    "    for num in list3:\n",
    "        if num >= largest_num:\n",
    "            largest_num = num\n",
    "    return largest_num\n",
    "print(largest_list([5,6,-2,8]))"
   ]
  },
  {
   "cell_type": "code",
   "execution_count": 188,
   "metadata": {},
   "outputs": [
    {
     "name": "stdout",
     "output_type": "stream",
     "text": [
      "[10]\n",
      "[10, 20]\n",
      "[10, 20, 30]\n",
      "[10, 20, 30, 50]\n",
      "[10, 20, 30, 50, 60]\n",
      "[10, 20, 30, 50, 60, 40]\n",
      "[10, 20, 30, 50, 60, 40, 80]\n",
      "{40, 10, 80, 50, 20, 60, 30}\n"
     ]
    }
   ],
   "source": [
    "###7. Write a Python program to remove duplicates from a list. \n",
    "a = [10,20,30,20,10,50,60,40,80,50,40]\n",
    "\n",
    "dup_items = set()\n",
    "uniq_items = []\n",
    "for x in a:\n",
    "    if x not in dup_items:\n",
    "        uniq_items.append(x)\n",
    "        print(uniq_items)\n",
    "        dup_items.add(x)\n",
    "\n",
    "print(dup_items)"
   ]
  },
  {
   "cell_type": "code",
   "execution_count": 152,
   "metadata": {},
   "outputs": [
    {
     "name": "stdout",
     "output_type": "stream",
     "text": [
      "Not Empty\n"
     ]
    }
   ],
   "source": [
    "#8. Write a Python program to check a list is empty or not. \n",
    "def empty_ornot(lst8):\n",
    "    if len(lst8) == 0:\n",
    "        return \"Empty\"\n",
    "    else:\n",
    "        return\"Not Empty\"\n",
    "print(empty_ornot([1,2]))"
   ]
  },
  {
   "cell_type": "code",
   "execution_count": 344,
   "metadata": {},
   "outputs": [
    {
     "name": "stdout",
     "output_type": "stream",
     "text": [
      "5 i\n",
      "1 dig\n",
      "5 single\n",
      "3 i\n",
      "1 dig\n",
      "30 single\n",
      "4 i\n",
      "1 dig\n",
      "400 single\n",
      "435\n"
     ]
    }
   ],
   "source": [
    "#39. Write a Python program to convert a list of multiple integers into a single integer.\n",
    "def multinum_single(lst39):\n",
    "    single = 0\n",
    "    new_dig = 0\n",
    "    num39 = 0\n",
    "    for i in lst39:\n",
    "        dig = len(str(i))\n",
    "        new_dig += dig\n",
    "        single = i*10**(new_dig-1)\n",
    "        num39 += single\n",
    "    return num39\n",
    "print(multinum_single([5,3,4]))\n",
    "#----alternative answer\n",
    "L = [11, 33, 50]\n",
    "print(\"Original List: \",L)\n",
    "x = int(\"\".join(map(str, L)))\n",
    "print(\"Single Integer: \",x)"
   ]
  },
  {
   "cell_type": "code",
   "execution_count": 375,
   "metadata": {},
   "outputs": [
    {
     "name": "stdout",
     "output_type": "stream",
     "text": [
      "[3, 4, 6, 7, 8]\n",
      "[1, 3, 5, 7, 9, 2, 4, 6, 8]\n"
     ]
    }
   ],
   "source": [
    "#58. Write a Python program to replace the last element in a list with another list.\n",
    "def replace_lst(lst58_1, lst58_2):\n",
    "    final_lst= []\n",
    "    for i in lst58_1:\n",
    "        final_lst.append(i)\n",
    "    final_lst.remove(lst58_1[-1])\n",
    "    for j in lst58_2:\n",
    "        final_lst.append(j)\n",
    "    return final_lst\n",
    "print(replace_lst([3,4,5],[6,7,8]))\n",
    "#----alternative answer\n",
    "num1 = [1, 3, 5, 7, 9, 10]\n",
    "num2 = [2, 4, 6, 8]\n",
    "num1[-1:] = num2\n",
    "print(num1)"
   ]
  },
  {
   "cell_type": "code",
   "execution_count": null,
   "metadata": {},
   "outputs": [],
   "source": []
  }
 ],
 "metadata": {
  "kernelspec": {
   "display_name": "Python 3",
   "language": "python",
   "name": "python3"
  },
  "language_info": {
   "codemirror_mode": {
    "name": "ipython",
    "version": 3
   },
   "file_extension": ".py",
   "mimetype": "text/x-python",
   "name": "python",
   "nbconvert_exporter": "python",
   "pygments_lexer": "ipython3",
   "version": "3.7.4"
  }
 },
 "nbformat": 4,
 "nbformat_minor": 2
}
