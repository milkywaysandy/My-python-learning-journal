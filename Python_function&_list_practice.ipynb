{
 "cells": [
  {
   "cell_type": "code",
   "execution_count": 18,
   "metadata": {},
   "outputs": [
    {
     "name": "stdout",
     "output_type": "stream",
     "text": [
      "Please input first number:4\n",
      "Please input first number:5\n",
      "Please input first number:6\n",
      "6\n"
     ]
    }
   ],
   "source": [
    "#1. Write a Python function to find the Max of three numbers. Go to the editor\n",
    "x=int(input(\"Please input first number:\"))\n",
    "y=int(input(\"Please input first number:\"))\n",
    "z=int(input(\"Please input first number:\"))\n",
    "\n",
    "def maxof3(x,y,z):\n",
    "    if x>=y:\n",
    "        if x>=z:\n",
    "            return x\n",
    "        else:\n",
    "            return z\n",
    "    else:\n",
    "        if y>=z:\n",
    "            return y\n",
    "        else:\n",
    "            return z\n",
    "print(maxof3(x,y,z))  \n",
    "#note: find max of 2 then find max of 3 method is more clear"
   ]
  },
  {
   "cell_type": "code",
   "execution_count": 36,
   "metadata": {},
   "outputs": [
    {
     "name": "stdout",
     "output_type": "stream",
     "text": [
      "Entre a sentance:We are Family\n",
      "upp is :  2 lower is:  9\n"
     ]
    }
   ],
   "source": [
    "#7. Write a Python function that accepts a string and calculate the number of upper case letters & lower case letters.\n",
    "string = input(\"Entre a sentance: \")\n",
    "count_upp = 0\n",
    "count_low = 0\n",
    "i = 0\n",
    "for i in string:\n",
    "    if i.isupper() == True:\n",
    "        count_upp += 1\n",
    "for j in string:\n",
    "    if j.islower() == True:\n",
    "        count_low += 1\n",
    "print(\"upp is : \", count_upp, \"lower is: \", count_low)"
   ]
  },
  {
   "cell_type": "code",
   "execution_count": 66,
   "metadata": {},
   "outputs": [
    {
     "name": "stdout",
     "output_type": "stream",
     "text": [
      "8\n"
     ]
    }
   ],
   "source": [
    "#3. Write a Python program to get the largest number from a list.\n",
    "num = 0\n",
    "def largest_list(list3):\n",
    "    largest_num = 0\n",
    "    for num in list3:\n",
    "        if num >= largest_num:\n",
    "            largest_num = num\n",
    "    return largest_num\n",
    "print(largest_list([5,6,-2,8]))"
   ]
  },
  {
   "cell_type": "code",
   "execution_count": 38,
   "metadata": {},
   "outputs": [],
   "source": [
    "#7. Write a Python program to remove duplicates from a list. \n"
   ]
  },
  {
   "cell_type": "code",
   "execution_count": 39,
   "metadata": {},
   "outputs": [],
   "source": [
    "#13. Write a Python program to generate a 3*4*6 3D array whose each element is *"
   ]
  },
  {
   "cell_type": "code",
   "execution_count": 40,
   "metadata": {},
   "outputs": [],
   "source": [
    "#32. Write a Python program to check whether a list contains a sublist."
   ]
  },
  {
   "cell_type": "code",
   "execution_count": null,
   "metadata": {},
   "outputs": [],
   "source": [
    "#39. Write a Python program to convert a list of multiple integers into a single integer.\n",
    "#continue looking at questions!"
   ]
  }
 ],
 "metadata": {
  "kernelspec": {
   "display_name": "Python 3",
   "language": "python",
   "name": "python3"
  },
  "language_info": {
   "codemirror_mode": {
    "name": "ipython",
    "version": 3
   },
   "file_extension": ".py",
   "mimetype": "text/x-python",
   "name": "python",
   "nbconvert_exporter": "python",
   "pygments_lexer": "ipython3",
   "version": "3.7.4"
  }
 },
 "nbformat": 4,
 "nbformat_minor": 2
}
